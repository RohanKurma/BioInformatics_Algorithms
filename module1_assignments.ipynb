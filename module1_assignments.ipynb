{
 "cells": [
  {
   "cell_type": "markdown",
   "id": "1219843a",
   "metadata": {},
   "source": [
    "### Count(Text,Pattern)\n",
    "\n",
    "To Compute Count(Text, Patternn) we slide a window down the text checking whether each K-mer substring of the Text matches Pattern"
   ]
  },
  {
   "cell_type": "code",
   "execution_count": 14,
   "id": "d7cba657",
   "metadata": {},
   "outputs": [],
   "source": [
    "def PatternCount(Text, Pattern):\n",
    "    \"\"\"\n",
    "    Count the number of times a given pattern appears in a text.\n",
    "\n",
    "    This function scans the input string `Text` and counts how many times \n",
    "    the substring `Pattern` occurs, including overlapping matches.\n",
    "\n",
    "    Parameters\n",
    "    ----------\n",
    "    Text : str\n",
    "        The string in which to search for the pattern.\n",
    "    Pattern : str\n",
    "        The substring to count within the text.\n",
    "\n",
    "    Returns\n",
    "    -------\n",
    "    int\n",
    "        The number of times `Pattern` appears in `Text`.\n",
    "\n",
    "    Examples\n",
    "    --------\n",
    "    >>> PatternCount(\"GCGCG\", \"GCG\")\n",
    "    2\n",
    "    >>> PatternCount(\"AAAAA\", \"AA\")\n",
    "    4\n",
    "    \"\"\"\n",
    "\n",
    "    count = 0\n",
    "    for i in range(len(Text) - len(Pattern) + 1):\n",
    "        if Text[i:i+len(Pattern)] == Pattern:\n",
    "            count += 1\n",
    "    return count\n"
   ]
  },
  {
   "cell_type": "markdown",
   "id": "b08080e5",
   "metadata": {},
   "source": [
    "The regex lookahead version is usually the fastest for large texts."
   ]
  },
  {
   "cell_type": "code",
   "execution_count": 1,
   "id": "1f437037",
   "metadata": {},
   "outputs": [],
   "source": [
    "import re\n",
    "\n",
    "def PatternCount_regex(Text: str, Pattern: str) -> int:\n",
    "    \"\"\"\n",
    "    Count pattern occurrences using regular expressions.\n",
    "    Includes overlapping matches via lookahead (?=...).\n",
    "    \"\"\"\n",
    "    return len(re.findall(f\"(?={Pattern})\", Text))\n"
   ]
  },
  {
   "cell_type": "markdown",
   "id": "1320c2a8",
   "metadata": {},
   "source": [
    "### The Frequent Words Problem.\n",
    "\n",
    "<p> We say that the pattern is a most frequent k-mer in Text if it maximizes Count(Text, Pattern) among all k-mers.</p>\n",
    "<p> Ex: ACTAT is a most frequent 5-mer in ACAACTAGCATACTATCGGGAACTATCCT, and ATA is a frequent 3 mer i=of CGATATATCCATAG.</p>\n",
    "\n",
    "<p> \n"
   ]
  },
  {
   "cell_type": "code",
   "execution_count": null,
   "id": "bc43dddc",
   "metadata": {},
   "outputs": [],
   "source": [
    "def frequentWords(Text, k):\n",
    "\n",
    "    frequentPatterns = set()\n",
    "    Count = {}\n",
    "    for i in range(len(Text) - k + 1):\n",
    "        Pattern = Text[i:i+k]\n",
    "        if Pattern in Count:\n",
    "            Count[Pattern] += 1\n",
    "        else:\n",
    "            Count[Pattern] = 1\n",
    "    maxCount = max(Count.values())\n",
    "    for Pattern, count in Count.items():\n",
    "        if count == maxCount:\n",
    "            frequentPatterns.add(Pattern)\n",
    "    return frequentPatterns\n",
    "\n",
    "if __name__ == \"__main__\":\n",
    "    \n"
   ]
  },
  {
   "cell_type": "markdown",
   "id": "cd594ada",
   "metadata": {},
   "source": []
  },
  {
   "cell_type": "code",
   "execution_count": 4,
   "id": "beee31a8",
   "metadata": {},
   "outputs": [],
   "source": [
    "def FrquencyTable(Text, k):\n",
    "    freqMap = {}\n",
    "    for i in range(len(Text) - k + 1):\n",
    "        Pattern = Text[i:i+k]\n",
    "        if Pattern in freqMap:\n",
    "            freqMap[Pattern] += 1\n",
    "        else:\n",
    "            freqMap[Pattern] = 1\n",
    "    return freqMap"
   ]
  },
  {
   "cell_type": "code",
   "execution_count": 5,
   "id": "ee3a557c",
   "metadata": {},
   "outputs": [],
   "source": [
    "def BetterFrequentWords(Text, k):\n",
    "    freqMap = FrquencyTable(Text, k)\n",
    "    maxCount = max(freqMap.values())\n",
    "    return [Pattern for Pattern, count in freqMap.items() if count == maxCount]"
   ]
  },
  {
   "cell_type": "code",
   "execution_count": 6,
   "id": "dfc1d6d2",
   "metadata": {},
   "outputs": [
    {
     "name": "stdout",
     "output_type": "stream",
     "text": [
      "['GCAT', 'CATG']\n"
     ]
    }
   ],
   "source": [
    "text = \"ACGTTGCATGTCGCATGATGCATGAGAGCT\"\n",
    "k = 4\n",
    "print(BetterFrequentWords(text, k))"
   ]
  },
  {
   "cell_type": "markdown",
   "id": "e6f6709b",
   "metadata": {},
   "source": [
    "### The reverse compliment problem\n",
    "<p> Given a nucleotide p, we denote its complementary nucleotide as p*. </p>\n",
    "<p> The reverse compliment of a string Pattern = p1, p2, ...,pn is the string pattern_rc = pn*.....p1* </p>\n",
    "<p> formed by taking the compliment of each nucleotide in Pattern, then reversing the resulting string. "
   ]
  },
  {
   "cell_type": "code",
   "execution_count": 12,
   "id": "48c46c3e",
   "metadata": {},
   "outputs": [
    {
     "name": "stdout",
     "output_type": "stream",
     "text": [
      "The Pattern is AAAACCCGGT and its reverse complement is ACCGGGTTTT\n"
     ]
    }
   ],
   "source": [
    "def ReverseComplement(Pattern):\n",
    "    complement = {'A': 'T', 'T': 'A', 'C': 'G', 'G': 'C'}\n",
    "    pattern = ''.join(complement[n] for n in Pattern)\n",
    "    return pattern[::-1]\n",
    "pattern = \"AAAACCCGGT\"\n",
    "ReverseComplement(pattern)\n",
    "print(f\"The Pattern is {pattern} and its reverse complement is {ReverseComplement(pattern)}\")"
   ]
  },
  {
   "cell_type": "markdown",
   "id": "02d73a7b",
   "metadata": {},
   "source": [
    "### Pattern Matching Problem\n",
    "\n",
    "Input : Two Strings, Pattern and Genome\n",
    "\n",
    "Output: A collection of space-seperated integers specifying all straring positions where Patten appears as a substing of Genome"
   ]
  },
  {
   "cell_type": "code",
   "execution_count": 15,
   "id": "7530b706",
   "metadata": {},
   "outputs": [
    {
     "name": "stdout",
     "output_type": "stream",
     "text": [
      "PatternCount: 2\n",
      "PatternCount_regex: 2\n",
      "frequentWords: {'GCAT', 'CATG'}\n",
      "ReverseComplement: ACCGGGTTTT\n",
      "PatternMatchingProbem: [1, 3, 9]\n"
     ]
    }
   ],
   "source": [
    "def PatternMatchingProbem(Pattern, Genome):\n",
    "    positions = []\n",
    "    for i in range(len(Genome) - len(Pattern) + 1):\n",
    "        if Genome[i:i+len(Pattern)] == Pattern:\n",
    "            positions.append(i)\n",
    "    return positions\n",
    "\n",
    "if __name__ == \"__main__\":\n",
    "    Text = \"GCGCG\"\n",
    "    Pattern = \"GCG\"\n",
    "    print(f\"PatternCount: {PatternCount(Text, Pattern)}\")\n",
    "    print(f\"PatternCount_regex: {PatternCount_regex(Text, Pattern)}\")\n",
    "    print(f\"frequentWords: {frequentWords('ACGTTGCATGTCGCATGATGCATGAGAGCT', 4)}\")\n",
    "    print(f\"ReverseComplement: {ReverseComplement('AAAACCCGGT')}\")\n",
    "    print(f\"PatternMatchingProbem: {PatternMatchingProbem('ATAT', 'GATATATGCATATACTT')}\")"
   ]
  },
  {
   "cell_type": "code",
   "execution_count": 20,
   "id": "1aca1591",
   "metadata": {},
   "outputs": [
    {
     "name": "stdout",
     "output_type": "stream",
     "text": [
      "Genome length: 1108250\n",
      "Pattern CTTGATCAT found at positions: [60039, 98409, 129189, 152283, 152354, 152411, 163207, 197028, 200160, 357976, 376771, 392723, 532935, 600085, 622755, 1065555]\n"
     ]
    }
   ],
   "source": [
    "with open(r\"Module-1/HiddenMessages/Vibrio_cholerae.txt\") as f:\n",
    "    genome = f.read().strip()\n",
    "    pattern = \"CTTGATCAT\"\n",
    "    print(f\"Genome length: {len(genome)}\")\n",
    "    positions = PatternMatchingProbem(pattern, genome)\n",
    "    print(f\"Pattern {pattern} found at positions: {positions}\")"
   ]
  },
  {
   "cell_type": "code",
   "execution_count": 41,
   "id": "42fdd8cb",
   "metadata": {},
   "outputs": [
    {
     "name": "stdout",
     "output_type": "stream",
     "text": [
      "1 24 31 127 158 233 240 247 273 280 337 365 398 423 455 462 492 536 558 597 658 722 847 862 904 945 988 1006 1052 1088 1117 1166 1214 1221 1268 1307 1346 1353 1380 1449 1575 1590 1665 1726 1771 1810 1828 1901 1908 1915 1938 1949 1984 1991 2012 2091 2098 2151 2158 2165 2191 2231 2255 2280 2290 2303 2344 2351 2358 2415 2510 2562 2623 2651 2718 2872 2879 2903 2918 2925 2936 2953 2974 3062 3147 3154 3175 3206 3213 3255 3271 3336 3365 3374 3393 3427 3434 3441 3448 3455 3478 3574 3589 3635 3644 3661 3684 3723 3748 3765 3772 3811 3818 3872 3901 3968 3986 4033 4091 4154 4222 4250 4271 4278 4317 4342 4365 4405 4429 4473 4480 4530 4562 4590 4608 4671 4695 4702 4709 4732 4739 4754 4761 4768 4835 4842 4877 4884 4917 4927 4934 4941 5004 5020 5136 5160 5284 5291 5414 5475 5499 5558 5616 5653 5660 5696 5719 5780 5803 5827 5844 5896 5961 6012 6042 6049 6077 6144 6187 6211 6237 6244 6279 6322 6431 6446 6456 6471 6499 6536 6551 6587 6594 6626 6649 6679 6750 6757 6764 6805 6846 6871 6949 7047 7077 7084 7091 7164 7214 7276 7294 7309 7352 7408 7415 7467 7532 7548 7573 7588 7624 7672 7802 7860 7892 7909 7952 7999 8006 8062 8077 8092 8099 8106 8126 8133 8140 8165 8172 8179 8214 8240 8247 8283 8331 8405 8412 8419 8437 8452 8459 8466 8473 8480 8487 8506 8513 8544 8570 8579 8644 8664 8687 8694 8801 8808 8838 8904 8915 8922 8929 8944 8951 8958 8965 9006 9034 9066 9073 9161 9177 9184 9222 9240 9394 9489 9507 9514 9553\n"
     ]
    }
   ],
   "source": [
    "with open(r\"Module-1/HiddenMessages/dataset_30273_5.txt\") as f:\n",
    "    text = f.readlines()\n",
    "    genome = text[1].strip()\n",
    "    pattern = text[0].strip()\n",
    "    result = PatternMatchingProbem(pattern, genome)\n",
    "\n",
    "    print(\" \".join(map(str, result)))"
   ]
  },
  {
   "cell_type": "code",
   "execution_count": 34,
   "id": "7670e362",
   "metadata": {},
   "outputs": [
    {
     "data": {
      "text/plain": [
       "[34,\n",
       " 39,\n",
       " 1302,\n",
       " 1873,\n",
       " 3018,\n",
       " 3126,\n",
       " 3632,\n",
       " 4199,\n",
       " 4241,\n",
       " 5228,\n",
       " 5230,\n",
       " 5274,\n",
       " 5490,\n",
       " 5501,\n",
       " 5681,\n",
       " 6223,\n",
       " 7430,\n",
       " 7575,\n",
       " 7582,\n",
       " 7941,\n",
       " 8088,\n",
       " 8193]"
      ]
     },
     "execution_count": 34,
     "metadata": {},
     "output_type": "execute_result"
    }
   ],
   "source": [
    "result"
   ]
  },
  {
   "cell_type": "code",
   "execution_count": null,
   "id": "3d272df8",
   "metadata": {},
   "outputs": [],
   "source": []
  },
  {
   "cell_type": "code",
   "execution_count": null,
   "id": "aeba6531",
   "metadata": {},
   "outputs": [],
   "source": []
  }
 ],
 "metadata": {
  "kernelspec": {
   "display_name": "base",
   "language": "python",
   "name": "python3"
  },
  "language_info": {
   "codemirror_mode": {
    "name": "ipython",
    "version": 3
   },
   "file_extension": ".py",
   "mimetype": "text/x-python",
   "name": "python",
   "nbconvert_exporter": "python",
   "pygments_lexer": "ipython3",
   "version": "3.12.7"
  }
 },
 "nbformat": 4,
 "nbformat_minor": 5
}
